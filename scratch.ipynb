{
 "cells": [
  {
   "cell_type": "code",
   "execution_count": 20,
   "id": "8e41911a",
   "metadata": {},
   "outputs": [],
   "source": [
    "from geometry import Point"
   ]
  },
  {
   "cell_type": "code",
   "execution_count": 21,
   "id": "a3ff88ee",
   "metadata": {},
   "outputs": [],
   "source": [
    "point5 = Point(10,20)"
   ]
  },
  {
   "cell_type": "code",
   "execution_count": null,
   "id": "3261adee",
   "metadata": {},
   "outputs": [],
   "source": []
  },
  {
   "cell_type": "code",
   "execution_count": 23,
   "id": "8943eecc",
   "metadata": {},
   "outputs": [],
   "source": [
    "import ipaddress"
   ]
  },
  {
   "cell_type": "code",
   "execution_count": 24,
   "id": "fc4253ed",
   "metadata": {},
   "outputs": [],
   "source": [
    "myip = ipaddress.IPv4Address(\"1.1.1.1\")\n"
   ]
  },
  {
   "cell_type": "code",
   "execution_count": 25,
   "id": "92b05f13",
   "metadata": {},
   "outputs": [
    {
     "data": {
      "text/plain": [
       "10"
      ]
     },
     "execution_count": 25,
     "metadata": {},
     "output_type": "execute_result"
    }
   ],
   "source": [
    "point5.x"
   ]
  },
  {
   "cell_type": "code",
   "execution_count": 46,
   "id": "33b7b06d",
   "metadata": {},
   "outputs": [],
   "source": [
    "class Point:\n",
    "    \n",
    "    def __init__(self, x, y):\n",
    "        self.x = x\n",
    "        self.y = y\n",
    "        \n",
    "    \n",
    "    def falls_in_rectangle(self, lowleft, upright):\n",
    "        if lowleft[0] < self.x < upright[0] and lowleft[1] < self.y < upright[1]:\n",
    "            return True\n",
    "        else:\n",
    "            return \n",
    "    \n",
    "    def distance_from_point(self,point):\n",
    "        return ( (self.x-point.x)**2 + (self.y-point.y)**2 ) ** 0.5\n",
    "        "
   ]
  },
  {
   "cell_type": "code",
   "execution_count": 48,
   "metadata": {},
   "outputs": [],
   "source": [
    "point1 = Point(1,1)"
   ]
  },
  {
   "cell_type": "code",
   "execution_count": 49,
   "id": "b8f21ee3",
   "metadata": {},
   "outputs": [],
   "source": [
    "point2 = Point(3,4)"
   ]
  },
  {
   "cell_type": "code",
   "execution_count": 50,
   "id": "32f698a6",
   "metadata": {},
   "outputs": [
    {
     "data": {
      "text/plain": [
       "<__main__.Point at 0x202cd11dd50>"
      ]
     },
     "execution_count": 50,
     "metadata": {},
     "output_type": "execute_result"
    }
   ],
   "source": [
    "point2"
   ]
  },
  {
   "cell_type": "code",
   "execution_count": 51,
   "id": "05e28871",
   "metadata": {},
   "outputs": [],
   "source": [
    "point2.falls_in_rectangle((5,6),(7,9))"
   ]
  },
  {
   "cell_type": "code",
   "execution_count": 52,
   "id": "500c6892",
   "metadata": {},
   "outputs": [
    {
     "data": {
      "text/plain": [
       "True"
      ]
     },
     "execution_count": 52,
     "metadata": {},
     "output_type": "execute_result"
    }
   ],
   "source": [
    "Point(3,4).falls_in_rectangle((1,1),(6,6))"
   ]
  },
  {
   "cell_type": "code",
   "execution_count": 54,
   "id": "6bff8732",
   "metadata": {},
   "outputs": [
    {
     "data": {
      "text/plain": [
       "3.605551275463989"
      ]
     },
     "execution_count": 54,
     "metadata": {},
     "output_type": "execute_result"
    }
   ],
   "source": [
    "point1.distance_from_point(point2)"
   ]
  },
  {
   "cell_type": "code",
   "execution_count": null,
   "id": "99618bf9",
   "metadata": {},
   "outputs": [],
   "source": []
  }
 ],
 "metadata": {
  "kernelspec": {
   "display_name": "Python 3",
   "language": "python",
   "name": "python3"
  },
  "language_info": {
   "codemirror_mode": {
    "name": "ipython",
    "version": 3
   },
   "file_extension": ".py",
   "mimetype": "text/x-python",
   "name": "python",
   "nbconvert_exporter": "python",
   "pygments_lexer": "ipython3",
   "version": "3.11.9"
  }
 },
 "nbformat": 4,
 "nbformat_minor": 5
}
